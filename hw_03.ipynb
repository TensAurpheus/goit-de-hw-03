{
 "cells": [
  {
   "cell_type": "code",
   "execution_count": null,
   "metadata": {},
   "outputs": [],
   "source": [
    "from pyspark.sql import SparkSession, Window\n",
    "from pyspark.sql.functions import col, count, round, when, sum, lit"
   ]
  },
  {
   "cell_type": "code",
   "execution_count": 3,
   "metadata": {},
   "outputs": [],
   "source": [
    "spark = SparkSession.builder.appName(\"DE_hw_03\").getOrCreate()"
   ]
  },
  {
   "cell_type": "markdown",
   "metadata": {},
   "source": [
    "1. Завантажте та прочитайте кожен CSV-файл як окремий DataFrame."
   ]
  },
  {
   "cell_type": "code",
   "execution_count": 14,
   "metadata": {},
   "outputs": [
    {
     "name": "stdout",
     "output_type": "stream",
     "text": [
      "+-------+-------+---+------------------+\n",
      "|user_id|   name|age|             email|\n",
      "+-------+-------+---+------------------+\n",
      "|      1| User_1| 45| user1@example.com|\n",
      "|      2| User_2| 48| user2@example.com|\n",
      "|      3| User_3| 36| user3@example.com|\n",
      "|      4| User_4| 46| user4@example.com|\n",
      "|      5| User_5| 29| user5@example.com|\n",
      "|      6| User_6| 39| user6@example.com|\n",
      "|      7| User_7| 24| user7@example.com|\n",
      "|      8| User_8| 44| user8@example.com|\n",
      "|      9| User_9| 27| user9@example.com|\n",
      "|     10|User_10| 43|user10@example.com|\n",
      "+-------+-------+---+------------------+\n",
      "only showing top 10 rows\n",
      "\n"
     ]
    }
   ],
   "source": [
    "users_df = spark.read.csv('./users.csv', header=True)\n",
    "users_df.show(10)"
   ]
  },
  {
   "cell_type": "code",
   "execution_count": 6,
   "metadata": {},
   "outputs": [
    {
     "name": "stdout",
     "output_type": "stream",
     "text": [
      "+----------+------------+-----------+-----+\n",
      "|product_id|product_name|   category|price|\n",
      "+----------+------------+-----------+-----+\n",
      "|         1|   Product_1|     Beauty|  8.3|\n",
      "|         2|   Product_2|       Home|  8.3|\n",
      "|         3|   Product_3|Electronics|  9.2|\n",
      "|         4|   Product_4|Electronics|  2.6|\n",
      "|         5|   Product_5|Electronics|  9.4|\n",
      "|         6|   Product_6|     Sports|  8.7|\n",
      "|         7|   Product_7|     Beauty|  8.2|\n",
      "|         8|   Product_8|     Sports|  1.0|\n",
      "|         9|   Product_9|     Beauty|  6.0|\n",
      "|        10|  Product_10|     Sports|  5.4|\n",
      "+----------+------------+-----------+-----+\n",
      "only showing top 10 rows\n",
      "\n"
     ]
    }
   ],
   "source": [
    "products_df = spark.read.csv('./products.csv', header=True)\n",
    "products_df.show(10)"
   ]
  },
  {
   "cell_type": "code",
   "execution_count": 7,
   "metadata": {},
   "outputs": [
    {
     "name": "stdout",
     "output_type": "stream",
     "text": [
      "+-----------+-------+----------+----------+--------+\n",
      "|purchase_id|user_id|product_id|      date|quantity|\n",
      "+-----------+-------+----------+----------+--------+\n",
      "|          1|     52|         9|2022-01-01|       1|\n",
      "|          2|     93|        37|2022-01-02|       8|\n",
      "|          3|     15|        33|2022-01-03|       1|\n",
      "|          4|     72|        42|2022-01-04|       9|\n",
      "|          5|     61|        44|2022-01-05|       6|\n",
      "|          6|     21|        24|2022-01-06|       7|\n",
      "|          7|     83|        15|2022-01-07|       7|\n",
      "|          8|     87|        32|2022-01-08|       3|\n",
      "|          9|     75|        32|2022-01-09|       2|\n",
      "|         10|     75|        24|2022-01-10|       9|\n",
      "+-----------+-------+----------+----------+--------+\n",
      "only showing top 10 rows\n",
      "\n"
     ]
    }
   ],
   "source": [
    "purchases_df = spark.read.csv('./purchases.csv', header=True)\n",
    "purchases_df.show(10)"
   ]
  },
  {
   "cell_type": "code",
   "execution_count": null,
   "metadata": {},
   "outputs": [
    {
     "name": "stdout",
     "output_type": "stream",
     "text": [
      "+-------+------------------+-------+-----------------+-------------------+\n",
      "|summary|           user_id|   name|              age|              email|\n",
      "+-------+------------------+-------+-----------------+-------------------+\n",
      "|  count|               100|     98|               98|                 99|\n",
      "|   mean|              50.5|   NULL|35.13265306122449|               NULL|\n",
      "| stddev|29.011491975882016|   NULL|9.168117947710689|               NULL|\n",
      "|    min|                 1| User_1|               18|user100@example.com|\n",
      "|    max|                99|User_99|               49|  user9@example.com|\n",
      "+-------+------------------+-------+-----------------+-------------------+\n",
      "\n"
     ]
    }
   ],
   "source": [
    "users_df.describe().show()"
   ]
  },
  {
   "cell_type": "markdown",
   "metadata": {},
   "source": [
    "2. Очистіть дані, видаляючи будь-які рядки з пропущеними значеннями."
   ]
  },
  {
   "cell_type": "code",
   "execution_count": 33,
   "metadata": {},
   "outputs": [
    {
     "name": "stdout",
     "output_type": "stream",
     "text": [
      "+-------+------------------+-------+-----------------+-------------------+\n",
      "|summary|           user_id|   name|              age|              email|\n",
      "+-------+------------------+-------+-----------------+-------------------+\n",
      "|  count|                95|     95|               95|                 95|\n",
      "|   mean|              49.6|   NULL|34.96842105263158|               NULL|\n",
      "| stddev|28.691462144686874|   NULL|9.165676759472076|               NULL|\n",
      "|    min|                 1| User_1|               18|user100@example.com|\n",
      "|    max|                98|User_98|               49|  user9@example.com|\n",
      "+-------+------------------+-------+-----------------+-------------------+\n",
      "\n"
     ]
    }
   ],
   "source": [
    "users_df = users_df.dropna()\n",
    "users_df.describe().show()"
   ]
  },
  {
   "cell_type": "code",
   "execution_count": 34,
   "metadata": {},
   "outputs": [
    {
     "name": "stdout",
     "output_type": "stream",
     "text": [
      "+-------+------------------+------------+--------+------------------+\n",
      "|summary|        product_id|product_name|category|             price|\n",
      "+-------+------------------+------------+--------+------------------+\n",
      "|  count|                47|          47|      47|                47|\n",
      "|   mean|25.340425531914892|        NULL|    NULL| 5.919148936170212|\n",
      "| stddev|14.713608896919473|        NULL|    NULL|2.5341698149983642|\n",
      "|    min|                 1|   Product_1|  Beauty|               1.0|\n",
      "|    max|                 9|   Product_9|  Sports|               9.7|\n",
      "+-------+------------------+------------+--------+------------------+\n",
      "\n"
     ]
    }
   ],
   "source": [
    "products_df = products_df.dropna()\n",
    "products_df.describe().show()"
   ]
  },
  {
   "cell_type": "code",
   "execution_count": 35,
   "metadata": {},
   "outputs": [
    {
     "name": "stdout",
     "output_type": "stream",
     "text": [
      "+-------+------------------+------------------+------------------+----------+-----------------+\n",
      "|summary|       purchase_id|           user_id|        product_id|      date|         quantity|\n",
      "+-------+------------------+------------------+------------------+----------+-----------------+\n",
      "|  count|               195|               195|               195|       195|              195|\n",
      "|   mean|100.32820512820513|  49.8974358974359|26.456410256410255|      NULL|4.912820512820513|\n",
      "| stddev| 57.81150470848114|29.765401342881777|14.540802791118644|      NULL|2.570167819862638|\n",
      "|    min|                 1|                 1|                 1|2022-01-01|                1|\n",
      "|    max|                99|                99|                 9|2022-07-19|                9|\n",
      "+-------+------------------+------------------+------------------+----------+-----------------+\n",
      "\n"
     ]
    }
   ],
   "source": [
    "purchases_df = purchases_df.dropna()\n",
    "purchases_df.describe().show()"
   ]
  },
  {
   "cell_type": "markdown",
   "metadata": {},
   "source": [
    "3. Визначте загальну суму покупок за кожною категорією продуктів."
   ]
  },
  {
   "cell_type": "code",
   "execution_count": 36,
   "metadata": {},
   "outputs": [
    {
     "name": "stdout",
     "output_type": "stream",
     "text": [
      "+-----------+-------+----------+----------+--------+----------+------------+-----------+-----+-------+--------+---+-------------------+\n",
      "|purchase_id|user_id|product_id|      date|quantity|product_id|product_name|   category|price|user_id|    name|age|              email|\n",
      "+-----------+-------+----------+----------+--------+----------+------------+-----------+-----+-------+--------+---+-------------------+\n",
      "|          1|     52|         9|2022-01-01|       1|         9|   Product_9|     Beauty|  6.0|     52| User_52| 39| user52@example.com|\n",
      "|          2|     93|        37|2022-01-02|       8|        37|  Product_37|   Clothing|  6.0|     93| User_93| 25| user93@example.com|\n",
      "|          3|     15|        33|2022-01-03|       1|        33|  Product_33|       Home|  9.4|     15| User_15| 30| user15@example.com|\n",
      "|          4|     72|        42|2022-01-04|       9|        42|  Product_42|     Beauty|  9.1|     72| User_72| 39| user72@example.com|\n",
      "|          6|     21|        24|2022-01-06|       7|        24|  Product_24|Electronics|  2.1|     21| User_21| 37| user21@example.com|\n",
      "|          8|     87|        32|2022-01-08|       3|        32|  Product_32|       Home|  8.8|     87| User_87| 38| user87@example.com|\n",
      "|          9|     75|        32|2022-01-09|       2|        32|  Product_32|       Home|  8.8|     75| User_75| 40| user75@example.com|\n",
      "|         10|     75|        24|2022-01-10|       9|        24|  Product_24|Electronics|  2.1|     75| User_75| 40| user75@example.com|\n",
      "|         11|     88|        41|2022-01-11|       8|        41|  Product_41|     Sports|  5.9|     88| User_88| 25| user88@example.com|\n",
      "|         12|    100|        49|2022-01-12|       7|        49|  Product_49|     Sports|  9.7|    100|User_100| 26|user100@example.com|\n",
      "|         13|     24|        49|2022-01-13|       9|        49|  Product_49|     Sports|  9.7|     24| User_24| 46| user24@example.com|\n",
      "|         14|      3|        12|2022-01-14|       4|        12|  Product_12|       Home|  1.3|      3|  User_3| 36|  user3@example.com|\n",
      "|         15|     22|        39|2022-01-15|       4|        39|  Product_39|       Home|  7.3|     22| User_22| 45| user22@example.com|\n",
      "|         16|     53|         2|2022-01-16|       1|         2|   Product_2|       Home|  8.3|     53| User_53| 38| user53@example.com|\n",
      "|         17|      2|         3|2022-01-17|       8|         3|   Product_3|Electronics|  9.2|      2|  User_2| 48|  user2@example.com|\n",
      "|         18|     88|        49|2022-01-18|       3|        49|  Product_49|     Sports|  9.7|     88| User_88| 25| user88@example.com|\n",
      "|         20|     38|        49|2022-01-20|       2|        49|  Product_49|     Sports|  9.7|     38| User_38| 41| user38@example.com|\n",
      "|         21|      2|        17|2022-01-21|       2|        17|  Product_17|Electronics|  8.1|      2|  User_2| 48|  user2@example.com|\n",
      "|         22|     64|        49|2022-01-22|       7|        49|  Product_49|     Sports|  9.7|     64| User_64| 26| user64@example.com|\n",
      "|         23|     60|         2|2022-01-23|       6|         2|   Product_2|       Home|  8.3|     60| User_60| 37| user60@example.com|\n",
      "+-----------+-------+----------+----------+--------+----------+------------+-----------+-----+-------+--------+---+-------------------+\n",
      "only showing top 20 rows\n",
      "\n"
     ]
    }
   ],
   "source": [
    "all_df = purchases_df.join(products_df, purchases_df.product_id == products_df.product_id) \\\n",
    ".join(users_df, purchases_df.user_id == users_df.user_id)\n",
    "all_df.show()"
   ]
  },
  {
   "cell_type": "code",
   "execution_count": 37,
   "metadata": {},
   "outputs": [
    {
     "name": "stdout",
     "output_type": "stream",
     "text": [
      "+-----------+-------+----------+----------+--------+----------+------------+-----------+-----+-------+--------+---+-------------------+-----+\n",
      "|purchase_id|user_id|product_id|      date|quantity|product_id|product_name|   category|price|user_id|    name|age|              email|total|\n",
      "+-----------+-------+----------+----------+--------+----------+------------+-----------+-----+-------+--------+---+-------------------+-----+\n",
      "|          1|     52|         9|2022-01-01|       1|         9|   Product_9|     Beauty|  6.0|     52| User_52| 39| user52@example.com|  6.0|\n",
      "|          2|     93|        37|2022-01-02|       8|        37|  Product_37|   Clothing|  6.0|     93| User_93| 25| user93@example.com| 48.0|\n",
      "|          3|     15|        33|2022-01-03|       1|        33|  Product_33|       Home|  9.4|     15| User_15| 30| user15@example.com|  9.4|\n",
      "|          4|     72|        42|2022-01-04|       9|        42|  Product_42|     Beauty|  9.1|     72| User_72| 39| user72@example.com| 81.9|\n",
      "|          6|     21|        24|2022-01-06|       7|        24|  Product_24|Electronics|  2.1|     21| User_21| 37| user21@example.com| 14.7|\n",
      "|          8|     87|        32|2022-01-08|       3|        32|  Product_32|       Home|  8.8|     87| User_87| 38| user87@example.com| 26.4|\n",
      "|          9|     75|        32|2022-01-09|       2|        32|  Product_32|       Home|  8.8|     75| User_75| 40| user75@example.com| 17.6|\n",
      "|         10|     75|        24|2022-01-10|       9|        24|  Product_24|Electronics|  2.1|     75| User_75| 40| user75@example.com| 18.9|\n",
      "|         11|     88|        41|2022-01-11|       8|        41|  Product_41|     Sports|  5.9|     88| User_88| 25| user88@example.com| 47.2|\n",
      "|         12|    100|        49|2022-01-12|       7|        49|  Product_49|     Sports|  9.7|    100|User_100| 26|user100@example.com| 67.9|\n",
      "|         13|     24|        49|2022-01-13|       9|        49|  Product_49|     Sports|  9.7|     24| User_24| 46| user24@example.com| 87.3|\n",
      "|         14|      3|        12|2022-01-14|       4|        12|  Product_12|       Home|  1.3|      3|  User_3| 36|  user3@example.com|  5.2|\n",
      "|         15|     22|        39|2022-01-15|       4|        39|  Product_39|       Home|  7.3|     22| User_22| 45| user22@example.com| 29.2|\n",
      "|         16|     53|         2|2022-01-16|       1|         2|   Product_2|       Home|  8.3|     53| User_53| 38| user53@example.com|  8.3|\n",
      "|         17|      2|         3|2022-01-17|       8|         3|   Product_3|Electronics|  9.2|      2|  User_2| 48|  user2@example.com| 73.6|\n",
      "|         18|     88|        49|2022-01-18|       3|        49|  Product_49|     Sports|  9.7|     88| User_88| 25| user88@example.com| 29.1|\n",
      "|         20|     38|        49|2022-01-20|       2|        49|  Product_49|     Sports|  9.7|     38| User_38| 41| user38@example.com| 19.4|\n",
      "|         21|      2|        17|2022-01-21|       2|        17|  Product_17|Electronics|  8.1|      2|  User_2| 48|  user2@example.com| 16.2|\n",
      "|         22|     64|        49|2022-01-22|       7|        49|  Product_49|     Sports|  9.7|     64| User_64| 26| user64@example.com| 67.9|\n",
      "|         23|     60|         2|2022-01-23|       6|         2|   Product_2|       Home|  8.3|     60| User_60| 37| user60@example.com| 49.8|\n",
      "+-----------+-------+----------+----------+--------+----------+------------+-----------+-----+-------+--------+---+-------------------+-----+\n",
      "only showing top 20 rows\n",
      "\n"
     ]
    }
   ],
   "source": [
    "all_df = all_df.withColumn('total', round(col('quantity') * col('price'), 2))\n",
    "all_df.show()"
   ]
  },
  {
   "cell_type": "markdown",
   "metadata": {},
   "source": [
    "3. Визначте загальну суму покупок за кожною категорією продуктів."
   ]
  },
  {
   "cell_type": "code",
   "execution_count": 43,
   "metadata": {},
   "outputs": [
    {
     "name": "stdout",
     "output_type": "stream",
     "text": [
      "+-----------+-----------+\n",
      "|   category|total_sales|\n",
      "+-----------+-----------+\n",
      "|     Sports|     1755.5|\n",
      "|       Home|     1438.9|\n",
      "|Electronics|     1141.9|\n",
      "|   Clothing|      696.1|\n",
      "|     Beauty|      441.7|\n",
      "+-----------+-----------+\n",
      "\n"
     ]
    }
   ],
   "source": [
    "all_df.groupBy('category') \\\n",
    "    .agg(round(sum(col('total')), 2).alias('total_sales')) \\\n",
    "    .orderBy(col('total_sales').desc()) \\\n",
    "    .show()"
   ]
  },
  {
   "cell_type": "markdown",
   "metadata": {},
   "source": [
    "4. Визначте суму покупок за кожною категорією продуктів для вікової категорії від 18 до 25 включно."
   ]
  },
  {
   "cell_type": "code",
   "execution_count": 45,
   "metadata": {},
   "outputs": [
    {
     "name": "stdout",
     "output_type": "stream",
     "text": [
      "+-----------+-----------+\n",
      "|   category|total_sales|\n",
      "+-----------+-----------+\n",
      "|       Home|      361.1|\n",
      "|     Sports|      310.5|\n",
      "|Electronics|      249.6|\n",
      "|   Clothing|      245.0|\n",
      "|     Beauty|       41.4|\n",
      "+-----------+-----------+\n",
      "\n"
     ]
    }
   ],
   "source": [
    "all_df.where(\"age between 18 and 25\") \\\n",
    "    .groupBy('category') \\\n",
    "    .agg(round(sum(col('total')), 2).alias('total_sales')) \\\n",
    "    .orderBy(col('total_sales').desc()) \\\n",
    "    .show()"
   ]
  },
  {
   "cell_type": "markdown",
   "metadata": {},
   "source": [
    "5. Визначте частку покупок за кожною категорією товарів від сумарних витрат для вікової категорії від 18 до 25 років."
   ]
  },
  {
   "cell_type": "code",
   "execution_count": 63,
   "metadata": {},
   "outputs": [
    {
     "name": "stdout",
     "output_type": "stream",
     "text": [
      "+-----------+-----------+----------+\n",
      "|   category|total_sales|%_of_total|\n",
      "+-----------+-----------+----------+\n",
      "|       Home|      361.1|      29.9|\n",
      "|     Sports|      310.5|     25.71|\n",
      "|Electronics|      249.6|     20.67|\n",
      "|   Clothing|      245.0|     20.29|\n",
      "|     Beauty|       41.4|      3.43|\n",
      "+-----------+-----------+----------+\n",
      "\n"
     ]
    }
   ],
   "source": [
    "total_sum = all_df.where(\"age between 18 and 25\") \\\n",
    "    .groupBy('category') \\\n",
    "    .agg(round(sum(col('total')), 2).alias('total_sales')) \\\n",
    "    .agg(sum('total_sales').alias('total_sum')) \\\n",
    "    .first()['total_sum']\n",
    "\n",
    "all_df.where(\"age between 18 and 25\") \\\n",
    "    .groupBy('category') \\\n",
    "    .agg(round(sum(col('total')), 2).alias('total_sales')) \\\n",
    "    .withColumn('%_of_total', round(col('total_sales') / lit(total_sum) * 100, 2)) \\\n",
    "    .orderBy(col('total_sales').desc()) \\\n",
    "    .show()"
   ]
  },
  {
   "cell_type": "markdown",
   "metadata": {},
   "source": [
    "6. Виберіть 3 категорії продуктів з найвищим відсотком витрат споживачами віком від 18 до 25 років."
   ]
  },
  {
   "cell_type": "code",
   "execution_count": 64,
   "metadata": {},
   "outputs": [
    {
     "name": "stdout",
     "output_type": "stream",
     "text": [
      "+-----------+-----------+----------+\n",
      "|   category|total_sales|%_of_total|\n",
      "+-----------+-----------+----------+\n",
      "|       Home|      361.1|      29.9|\n",
      "|     Sports|      310.5|     25.71|\n",
      "|Electronics|      249.6|     20.67|\n",
      "+-----------+-----------+----------+\n",
      "\n"
     ]
    }
   ],
   "source": [
    "all_df.where(\"age between 18 and 25\") \\\n",
    "    .groupBy('category') \\\n",
    "    .agg(round(sum(col('total')), 2).alias('total_sales')) \\\n",
    "    .withColumn('%_of_total', round(col('total_sales') / lit(total_sum) * 100, 2)) \\\n",
    "    .orderBy(col('total_sales').desc()) \\\n",
    "    .limit(3) \\\n",
    "    .show()"
   ]
  },
  {
   "cell_type": "code",
   "execution_count": 65,
   "metadata": {},
   "outputs": [],
   "source": [
    "spark.stop()"
   ]
  }
 ],
 "metadata": {
  "kernelspec": {
   "display_name": "env_DE",
   "language": "python",
   "name": "python3"
  },
  "language_info": {
   "codemirror_mode": {
    "name": "ipython",
    "version": 3
   },
   "file_extension": ".py",
   "mimetype": "text/x-python",
   "name": "python",
   "nbconvert_exporter": "python",
   "pygments_lexer": "ipython3",
   "version": "3.12.7"
  }
 },
 "nbformat": 4,
 "nbformat_minor": 2
}
